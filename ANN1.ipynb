{
 "cells": [
  {
   "cell_type": "code",
   "execution_count": null,
   "metadata": {
    "colab": {
     "base_uri": "https://localhost:8080/",
     "height": 1000
    },
    "executionInfo": {
     "elapsed": 2570,
     "status": "ok",
     "timestamp": 1715101400193,
     "user": {
      "displayName": "Paras Deshpande",
      "userId": "02962485204970653198"
     },
     "user_tz": -330
    },
    "id": "5anFsvx7_LRk",
    "outputId": "17d4dccd-aba6-4dc7-98b6-25d3590e41e5"
   },
   "outputs": [],
   "source": [
    "import numpy as np\n",
    "import matplotlib.pyplot as plt\n",
    "x = np.linspace(-10, 10, 1000)\n",
    "def linear_function(x):\n",
    "  return x\n",
    "\n",
    "def sigmoid_function(x):\n",
    "  return 1 / (1 + np.exp(-x))\n",
    "\n",
    "def tanh_function(x):\n",
    "  return np.tanh(x)\n",
    "\n",
    "def relu_function(x):\n",
    "  return np.maximum(0, x)\n",
    "linear = linear_function(x)\n",
    "sigmoid = sigmoid_function(x)\n",
    "tanh = tanh_function(x)\n",
    "relu = relu_function(x)\n",
    "plt.figure(figsize=(12, 10))\n",
    "\n",
    "plt.subplot(2, 2, 1)\n",
    "plt.plot(x, linear)\n",
    "plt.title('Linear')\n",
    "\n",
    "plt.subplot(2, 2, 2)\n",
    "plt.plot(x, sigmoid)\n",
    "plt.title('Sigmoid')\n",
    "\n",
    "plt.subplot(2, 2, 3)\n",
    "plt.plot(x, tanh)\n",
    "plt.title('Tanh')\n",
    "\n",
    "plt.subplot(2, 2, 4)\n",
    "plt.plot(x, relu)\n",
    "plt.title('ReLU')\n",
    "\n",
    "plt.tight_layout()\n",
    "plt.show()"
   ]
  },
  {
   "cell_type": "code",
   "execution_count": null,
   "metadata": {},
   "outputs": [],
   "source": []
  }
 ],
 "metadata": {
  "colab": {
   "authorship_tag": "ABX9TyOusE1PVQ1D0/vhse/5FiEK",
   "provenance": []
  },
  "kernelspec": {
   "display_name": "Python 3 (ipykernel)",
   "language": "python",
   "name": "python3"
  },
  "language_info": {
   "name": "python"
  }
 },
 "nbformat": 4,
 "nbformat_minor": 1
}
